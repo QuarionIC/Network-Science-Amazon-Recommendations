{
 "cells": [
  {
   "cell_type": "code",
   "execution_count": 2,
   "id": "8cb9fe0a",
   "metadata": {},
   "outputs": [],
   "source": [
    "import networkx as nx\n",
    "import matplotlib.pyplot as plt\n",
    "import numpy as np\n",
    "import pandas as pd\n",
    "import random\n",
    "import itertools\n",
    "from scipy.optimize import curve_fit\n",
    "\n",
    "random.seed(4)\n",
    "# Reducing the size of the network\n",
    "\n",
    "df_edges = pd.read_csv(\"com-Amazon.csv\", delimiter = \" \")\n",
    "OG = nx.from_pandas_edgelist(df_edges, source=\"From\", target=\"To\", create_using= nx.DiGraph) #the original co-purchasing network\n",
    "edges = random.sample(list(OG.edges()), int(OG.number_of_edges() * 0.15)) # get 15% of the edges in the graph\n",
    "G=nx.DiGraph()\n",
    "G.add_edges_from(edges)\n",
    "largest_cc = max(nx.weakly_connected_components(G), key=len) #find the largest weakly component\n",
    "G1=G.subgraph(largest_cc) # the final graph with the largest weakly connected component\n",
    "G2= G1.to_undirected()\n",
    "G2_node_list= [] # add node that have the degree > 2\n",
    "for node,degree in G1.degree():\n",
    "    if degree > 2:\n",
    "        G2_node_list.append(node)\n",
    "G2= G1.subgraph(G2_node_list) #creating the graph base on the degree > 2\n",
    "        \n",
    "removed_edges = random.sample(list(G2.edges()), int(G2.number_of_edges() * 0.2)) #we will removed 20% of the edges\n",
    "#print(removed_edges) # tuples of node i, node j\n",
    "G_train = G2.copy()\n",
    "G_train.remove_edges_from(removed_edges)\n",
    "G_test = G2.copy()\n",
    "#G_test.add_edges_from(removed_edges)\n",
    "\n",
    "G_train=G_train.to_undirected()\n",
    "\n",
    "\n",
    "#common neighbor\n",
    "\n",
    "\n",
    "\n"
   ]
  },
  {
   "cell_type": "code",
   "execution_count": 6,
   "id": "09175ccf",
   "metadata": {},
   "outputs": [
    {
     "name": "stdout",
     "output_type": "stream",
     "text": [
      "20\n"
     ]
    }
   ],
   "source": [
    "# jacard\n",
    "jacard = nx.jaccard_coefficient(G_train)\n",
    "jacard_pred = []\n",
    "for u, v, p in jacard:\n",
    "    jacard_pred.append([u, v, p])\n",
    "jacard_pred = pd.DataFrame(jacard_pred, columns=['u', 'v', 'jacard'])\n",
    "jacard_pred = jacard_pred.sort_values(by='jacard', ascending=False)\n",
    "jacard_pred = jacard_pred.reset_index(drop=True)\n",
    "#jacard_pred.loc[jacard_pred['u'].isin(G_test.nodes()) & jacard_pred['v'].isin(G_test.nodes()), 'label'] = 1\n",
    "jacard_pred['pred'] = 0\n",
    "jacard_pred.loc[jacard_pred['jacard'] > 0.15, 'pred'] = 1\n",
    "pred= []\n",
    "for i in range(len(jacard_pred)): \n",
    "    if jacard_pred['pred'][i] == 1: # number of predicion \n",
    "        comparing= (int(jacard_pred.iloc[i]['u']),int(jacard_pred.iloc[i]['v']),(jacard_pred.iloc[i]['jacard']))\n",
    "        pred.append(comparing)\n",
    "success=0\n",
    "failure=0\n",
    "true=[]\n",
    "for u, v, j in pred:\n",
    "    if ((u,v)) in G_test.edges():\n",
    "      true.append(j)\n",
    "      success+=1\n",
    "    else:\n",
    "      failure+=1\n",
    "print(success)"
   ]
  },
  {
   "cell_type": "code",
   "execution_count": 10,
   "id": "4269dcae",
   "metadata": {},
   "outputs": [
    {
     "name": "stdout",
     "output_type": "stream",
     "text": [
      "22\n"
     ]
    }
   ],
   "source": [
    "# adamic adar\n",
    "adamic = nx.adamic_adar_index(G_train)\n",
    "adamic_pred= []\n",
    "for u, v, p in adamic:\n",
    "    adamic_pred.append([u,v,p])\n",
    "adamic_pred = pd.DataFrame(adamic_pred, columns=['u', 'v', 'adamic'])\n",
    "adamic_pred = adamic_pred.sort_values(by='adamic', ascending=False)\n",
    "adamic_pred = adamic_pred.reset_index(drop=True)\n",
    "adamic_pred['pred'] = 0\n",
    "adamic_pred.loc[adamic_pred['adamic'] > 0.15, 'pred'] = 1\n",
    "\n",
    "\n",
    "pred=[]\n",
    "for i in range(len(adamic_pred)): \n",
    "    if adamic_pred['pred'][i] == 1: # number of predicion \n",
    "        comparing= (int(adamic_pred.iloc[i]['u']),int(adamic_pred.iloc[i]['v']),(adamic_pred.iloc[i]['adamic']))\n",
    "        pred.append(comparing)\n",
    "success=0\n",
    "failure=0\n",
    "true=[]\n",
    "for u, v, j in pred:\n",
    "    if ((u,v)) in G_test.edges():\n",
    "      true.append(j)\n",
    "      success+=1\n",
    "    else:\n",
    "      failure+=1\n",
    "print(success)"
   ]
  }
 ],
 "metadata": {
  "kernelspec": {
   "display_name": "Python 3 (ipykernel)",
   "language": "python",
   "name": "python3"
  },
  "language_info": {
   "codemirror_mode": {
    "name": "ipython",
    "version": 3
   },
   "file_extension": ".py",
   "mimetype": "text/x-python",
   "name": "python",
   "nbconvert_exporter": "python",
   "pygments_lexer": "ipython3",
   "version": "3.9.12"
  }
 },
 "nbformat": 4,
 "nbformat_minor": 5
}
